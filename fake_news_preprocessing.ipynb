{
 "cells": [
  {
   "cell_type": "code",
   "execution_count": 2,
   "id": "1d9f651d",
   "metadata": {
    "ExecuteTime": {
     "end_time": "2022-11-23T13:13:35.609776Z",
     "start_time": "2022-11-23T13:13:35.167771Z"
    }
   },
   "outputs": [],
   "source": [
    "import collections\n",
    "import numpy as np\n",
    "import pandas as pd\n",
    "import re\n",
    "\n",
    "from argparse import Namespace"
   ]
  },
  {
   "cell_type": "code",
   "execution_count": 3,
   "id": "83be4f57",
   "metadata": {
    "ExecuteTime": {
     "end_time": "2022-11-23T13:13:38.682771Z",
     "start_time": "2022-11-23T13:13:38.669771Z"
    }
   },
   "outputs": [],
   "source": [
    "args = Namespace(\n",
    "    \n",
    "    raw_train_dataset_csv=\"data/fake_news/train.csv\",\n",
    "    raw_test_dataset_csv=\"data/fake_news/test.csv\",\n",
    "    proportion_subset_of_train=1,\n",
    "    proportion_subset_of_test=1,\n",
    "    train_proportion=0.8,\n",
    "    val_proportion=0.2,\n",
    "    output_train_val_csv=\"data/fake_news/train_val_preprocessed_FULL.csv\",\n",
    "    output_munged_csv=\"data/fake_news/preprocessed_FULL.csv\",\n",
    "    output_test_csv=\"data/fake_news/test_preprocessed.csv\",\n",
    "    seed=42\n",
    "    \n",
    ")"
   ]
  },
  {
   "cell_type": "code",
   "execution_count": 4,
   "id": "5e62ed3c",
   "metadata": {
    "ExecuteTime": {
     "end_time": "2022-11-23T13:13:42.540982Z",
     "start_time": "2022-11-23T13:13:40.318791Z"
    }
   },
   "outputs": [],
   "source": [
    "train_news = pd.read_csv(args.raw_train_dataset_csv, index_col='id')\n",
    "test_news = pd.read_csv(args.raw_test_dataset_csv, index_col='id')"
   ]
  },
  {
   "cell_type": "code",
   "execution_count": 5,
   "id": "3316c191",
   "metadata": {
    "ExecuteTime": {
     "end_time": "2022-11-23T13:13:44.362280Z",
     "start_time": "2022-11-23T13:13:44.330281Z"
    }
   },
   "outputs": [
    {
     "data": {
      "text/html": [
       "<div>\n",
       "<style scoped>\n",
       "    .dataframe tbody tr th:only-of-type {\n",
       "        vertical-align: middle;\n",
       "    }\n",
       "\n",
       "    .dataframe tbody tr th {\n",
       "        vertical-align: top;\n",
       "    }\n",
       "\n",
       "    .dataframe thead th {\n",
       "        text-align: right;\n",
       "    }\n",
       "</style>\n",
       "<table border=\"1\" class=\"dataframe\">\n",
       "  <thead>\n",
       "    <tr style=\"text-align: right;\">\n",
       "      <th></th>\n",
       "      <th>title</th>\n",
       "      <th>author</th>\n",
       "      <th>text</th>\n",
       "      <th>label</th>\n",
       "    </tr>\n",
       "    <tr>\n",
       "      <th>id</th>\n",
       "      <th></th>\n",
       "      <th></th>\n",
       "      <th></th>\n",
       "      <th></th>\n",
       "    </tr>\n",
       "  </thead>\n",
       "  <tbody>\n",
       "    <tr>\n",
       "      <th>0</th>\n",
       "      <td>House Dem Aide: We Didn’t Even See Comey’s Let...</td>\n",
       "      <td>Darrell Lucus</td>\n",
       "      <td>House Dem Aide: We Didn’t Even See Comey’s Let...</td>\n",
       "      <td>1</td>\n",
       "    </tr>\n",
       "    <tr>\n",
       "      <th>1</th>\n",
       "      <td>FLYNN: Hillary Clinton, Big Woman on Campus - ...</td>\n",
       "      <td>Daniel J. Flynn</td>\n",
       "      <td>Ever get the feeling your life circles the rou...</td>\n",
       "      <td>0</td>\n",
       "    </tr>\n",
       "    <tr>\n",
       "      <th>2</th>\n",
       "      <td>Why the Truth Might Get You Fired</td>\n",
       "      <td>Consortiumnews.com</td>\n",
       "      <td>Why the Truth Might Get You Fired October 29, ...</td>\n",
       "      <td>1</td>\n",
       "    </tr>\n",
       "    <tr>\n",
       "      <th>3</th>\n",
       "      <td>15 Civilians Killed In Single US Airstrike Hav...</td>\n",
       "      <td>Jessica Purkiss</td>\n",
       "      <td>Videos 15 Civilians Killed In Single US Airstr...</td>\n",
       "      <td>1</td>\n",
       "    </tr>\n",
       "    <tr>\n",
       "      <th>4</th>\n",
       "      <td>Iranian woman jailed for fictional unpublished...</td>\n",
       "      <td>Howard Portnoy</td>\n",
       "      <td>Print \\nAn Iranian woman has been sentenced to...</td>\n",
       "      <td>1</td>\n",
       "    </tr>\n",
       "  </tbody>\n",
       "</table>\n",
       "</div>"
      ],
      "text/plain": [
       "                                                title              author  \\\n",
       "id                                                                          \n",
       "0   House Dem Aide: We Didn’t Even See Comey’s Let...       Darrell Lucus   \n",
       "1   FLYNN: Hillary Clinton, Big Woman on Campus - ...     Daniel J. Flynn   \n",
       "2                   Why the Truth Might Get You Fired  Consortiumnews.com   \n",
       "3   15 Civilians Killed In Single US Airstrike Hav...     Jessica Purkiss   \n",
       "4   Iranian woman jailed for fictional unpublished...      Howard Portnoy   \n",
       "\n",
       "                                                 text  label  \n",
       "id                                                            \n",
       "0   House Dem Aide: We Didn’t Even See Comey’s Let...      1  \n",
       "1   Ever get the feeling your life circles the rou...      0  \n",
       "2   Why the Truth Might Get You Fired October 29, ...      1  \n",
       "3   Videos 15 Civilians Killed In Single US Airstr...      1  \n",
       "4   Print \\nAn Iranian woman has been sentenced to...      1  "
      ]
     },
     "execution_count": 5,
     "metadata": {},
     "output_type": "execute_result"
    }
   ],
   "source": [
    "train_news.head()"
   ]
  },
  {
   "cell_type": "markdown",
   "id": "59b178a4",
   "metadata": {},
   "source": [
    "## Train on a subset of the full train dataset"
   ]
  },
  {
   "cell_type": "code",
   "execution_count": 6,
   "id": "e493e4ab",
   "metadata": {
    "ExecuteTime": {
     "end_time": "2022-11-23T13:13:51.720724Z",
     "start_time": "2022-11-23T13:13:51.661724Z"
    }
   },
   "outputs": [
    {
     "name": "stdout",
     "output_type": "stream",
     "text": [
      "<class 'pandas.core.frame.DataFrame'>\n",
      "Int64Index: 20800 entries, 12007 to 16673\n",
      "Data columns (total 4 columns):\n",
      " #   Column  Non-Null Count  Dtype \n",
      "---  ------  --------------  ----- \n",
      " 0   title   20242 non-null  object\n",
      " 1   author  18843 non-null  object\n",
      " 2   text    20761 non-null  object\n",
      " 3   label   20800 non-null  object\n",
      "dtypes: object(4)\n",
      "memory usage: 812.5+ KB\n"
     ]
    }
   ],
   "source": [
    "# group by label \n",
    "by_label = train_news.groupby('label')\n",
    "\n",
    "# a dataframe to store the subset of the train dataset\n",
    "news_subset = pd.DataFrame(columns = train_news.columns)\n",
    "\n",
    "for name, group in by_label:\n",
    "    # sample a fraction of each group(by label) and append to news_subset\n",
    "    news_subset = pd.concat([news_subset, group.sample(frac=args.proportion_subset_of_train)])\n",
    "\n",
    "news_subset.info()"
   ]
  },
  {
   "cell_type": "markdown",
   "id": "b5021474",
   "metadata": {},
   "source": [
    "## Train dataset and Validation dataset split"
   ]
  },
  {
   "cell_type": "code",
   "execution_count": 7,
   "id": "7fcacc45",
   "metadata": {
    "ExecuteTime": {
     "end_time": "2022-11-23T13:13:55.120716Z",
     "start_time": "2022-11-23T13:13:55.063715Z"
    }
   },
   "outputs": [
    {
     "name": "stdout",
     "output_type": "stream",
     "text": [
      "<class 'pandas.core.frame.DataFrame'>\n",
      "Int64Index: 20800 entries, 19853 to 8742\n",
      "Data columns (total 5 columns):\n",
      " #   Column  Non-Null Count  Dtype \n",
      "---  ------  --------------  ----- \n",
      " 0   title   20242 non-null  object\n",
      " 1   author  18843 non-null  object\n",
      " 2   text    20761 non-null  object\n",
      " 3   label   20800 non-null  object\n",
      " 4   split   20800 non-null  object\n",
      "dtypes: object(5)\n",
      "memory usage: 975.0+ KB\n"
     ]
    }
   ],
   "source": [
    "# group by label \n",
    "by_label = news_subset.groupby('label')\n",
    "\n",
    "np.random.seed(args.seed)\n",
    "\n",
    "columns = list(news_subset.columns)\n",
    "train_news_final = pd.DataFrame(columns = columns.append('split'))\n",
    "\n",
    "for name, group in by_label:\n",
    "    n_total = group.shape[0]\n",
    "    n_train = int(args.train_proportion * n_total)\n",
    "    \n",
    "    # shuffle rows \n",
    "    group = group.sample(frac=1)\n",
    "    \n",
    "    # split \n",
    "    train, val = np.split(group, [n_train])\n",
    "    train['split'] = 'train'\n",
    "    val['split'] = 'val'\n",
    "    \n",
    "    train_news_final = pd.concat([train_news_final, train, val])\n",
    "    \n",
    "\n",
    "train_news_final.info()"
   ]
  },
  {
   "cell_type": "markdown",
   "id": "0df99016",
   "metadata": {},
   "source": [
    "## Preprocessing "
   ]
  },
  {
   "cell_type": "code",
   "execution_count": 8,
   "id": "1d5e2877",
   "metadata": {
    "ExecuteTime": {
     "end_time": "2022-11-23T13:14:06.605076Z",
     "start_time": "2022-11-23T13:13:57.770062Z"
    }
   },
   "outputs": [],
   "source": [
    "# Preprocess\n",
    "def preprocess_text(text):\n",
    "    text = str(text).lower()\n",
    "    \n",
    "    # match a single character present in the group and add space before and after the character\n",
    "    # (\\1 - refers to the matched character)\n",
    "    text = re.sub(r\"([.,!?])\", r\" \\1 \", text)\n",
    "    \n",
    "    # match a single character not present in the group and replace it with space\n",
    "    text = re.sub(r\"[^a-zA-Z.,!?]+\", r\" \", text)\n",
    "    return text\n",
    "    \n",
    "train_news_final.text = train_news_final.text.apply(preprocess_text)\n",
    "train_news_final.title = train_news_final.title.apply(preprocess_text)"
   ]
  },
  {
   "cell_type": "code",
   "execution_count": 9,
   "id": "9f821189",
   "metadata": {
    "ExecuteTime": {
     "end_time": "2022-11-23T13:14:10.968224Z",
     "start_time": "2022-11-23T13:14:08.757679Z"
    }
   },
   "outputs": [],
   "source": [
    "test_news.text = test_news.text.apply(preprocess_text)\n",
    "test_news.title = test_news.title.apply(preprocess_text)\n",
    "test_news['split'] = 'test'\n",
    "\n",
    "test_news_final = test_news.sample(frac=args.proportion_subset_of_test)\n",
    "\n",
    "news_final = pd.concat([train_news_final, test_news_final])"
   ]
  },
  {
   "cell_type": "code",
   "execution_count": 10,
   "id": "10240fb8",
   "metadata": {
    "ExecuteTime": {
     "end_time": "2022-11-23T13:14:12.862646Z",
     "start_time": "2022-11-23T13:14:12.831647Z"
    }
   },
   "outputs": [
    {
     "data": {
      "text/html": [
       "<div>\n",
       "<style scoped>\n",
       "    .dataframe tbody tr th:only-of-type {\n",
       "        vertical-align: middle;\n",
       "    }\n",
       "\n",
       "    .dataframe tbody tr th {\n",
       "        vertical-align: top;\n",
       "    }\n",
       "\n",
       "    .dataframe thead th {\n",
       "        text-align: right;\n",
       "    }\n",
       "</style>\n",
       "<table border=\"1\" class=\"dataframe\">\n",
       "  <thead>\n",
       "    <tr style=\"text-align: right;\">\n",
       "      <th></th>\n",
       "      <th>title</th>\n",
       "      <th>author</th>\n",
       "      <th>text</th>\n",
       "      <th>label</th>\n",
       "    </tr>\n",
       "    <tr>\n",
       "      <th>split</th>\n",
       "      <th></th>\n",
       "      <th></th>\n",
       "      <th></th>\n",
       "      <th></th>\n",
       "    </tr>\n",
       "  </thead>\n",
       "  <tbody>\n",
       "    <tr>\n",
       "      <th>test</th>\n",
       "      <td>5200</td>\n",
       "      <td>4697</td>\n",
       "      <td>5200</td>\n",
       "      <td>0</td>\n",
       "    </tr>\n",
       "    <tr>\n",
       "      <th>train</th>\n",
       "      <td>16639</td>\n",
       "      <td>15074</td>\n",
       "      <td>16639</td>\n",
       "      <td>16639</td>\n",
       "    </tr>\n",
       "    <tr>\n",
       "      <th>val</th>\n",
       "      <td>4161</td>\n",
       "      <td>3769</td>\n",
       "      <td>4161</td>\n",
       "      <td>4161</td>\n",
       "    </tr>\n",
       "  </tbody>\n",
       "</table>\n",
       "</div>"
      ],
      "text/plain": [
       "       title  author   text  label\n",
       "split                             \n",
       "test    5200    4697   5200      0\n",
       "train  16639   15074  16639  16639\n",
       "val     4161    3769   4161   4161"
      ]
     },
     "execution_count": 10,
     "metadata": {},
     "output_type": "execute_result"
    }
   ],
   "source": [
    "news_final.groupby('split').count()"
   ]
  },
  {
   "cell_type": "code",
   "execution_count": 11,
   "id": "8ebff37b",
   "metadata": {
    "ExecuteTime": {
     "end_time": "2022-11-23T13:14:23.903620Z",
     "start_time": "2022-11-23T13:14:23.874626Z"
    }
   },
   "outputs": [
    {
     "data": {
      "text/html": [
       "<div>\n",
       "<style scoped>\n",
       "    .dataframe tbody tr th:only-of-type {\n",
       "        vertical-align: middle;\n",
       "    }\n",
       "\n",
       "    .dataframe tbody tr th {\n",
       "        vertical-align: top;\n",
       "    }\n",
       "\n",
       "    .dataframe thead th {\n",
       "        text-align: right;\n",
       "    }\n",
       "</style>\n",
       "<table border=\"1\" class=\"dataframe\">\n",
       "  <thead>\n",
       "    <tr style=\"text-align: right;\">\n",
       "      <th></th>\n",
       "      <th>title</th>\n",
       "      <th>author</th>\n",
       "      <th>text</th>\n",
       "      <th>label</th>\n",
       "      <th>split</th>\n",
       "    </tr>\n",
       "  </thead>\n",
       "  <tbody>\n",
       "    <tr>\n",
       "      <th>20718</th>\n",
       "      <td>this is the best picture in human history dail...</td>\n",
       "      <td>NaN</td>\n",
       "      <td>this is the best picture in human history by n...</td>\n",
       "      <td>1</td>\n",
       "      <td>train</td>\n",
       "    </tr>\n",
       "    <tr>\n",
       "      <th>3611</th>\n",
       "      <td>caroline kennedy dances in a christmas video ,...</td>\n",
       "      <td>Mike Ives</td>\n",
       "      <td>hong kong the japanese public pays careful att...</td>\n",
       "      <td>0</td>\n",
       "      <td>train</td>\n",
       "    </tr>\n",
       "    <tr>\n",
       "      <th>12462</th>\n",
       "      <td>shock and gore mexican matador gets bull s hor...</td>\n",
       "      <td>Warner Todd Huston</td>\n",
       "      <td>bull fighting fans in mexico were shocked this...</td>\n",
       "      <td>0</td>\n",
       "      <td>val</td>\n",
       "    </tr>\n",
       "    <tr>\n",
       "      <th>1058</th>\n",
       "      <td>gatlinburg residents return home to wildfire d...</td>\n",
       "      <td>Richard Fausset</td>\n",
       "      <td>gatlinburg , tenn . the annual fantasy of ligh...</td>\n",
       "      <td>0</td>\n",
       "      <td>train</td>\n",
       "    </tr>\n",
       "    <tr>\n",
       "      <th>24696</th>\n",
       "      <td>the ancient gods releasing matrix control</td>\n",
       "      <td>Gillian</td>\n",
       "      <td>leave a reply david manning our evolution is s...</td>\n",
       "      <td>NaN</td>\n",
       "      <td>test</td>\n",
       "    </tr>\n",
       "    <tr>\n",
       "      <th>23999</th>\n",
       "      <td>flynn is said to have talked to russians about...</td>\n",
       "      <td>Matthew Rosenberg and Matt Apuzzo</td>\n",
       "      <td>washington weeks before president trump s inau...</td>\n",
       "      <td>NaN</td>\n",
       "      <td>test</td>\n",
       "    </tr>\n",
       "    <tr>\n",
       "      <th>23604</th>\n",
       "      <td>breaking obama now considering martial law bec...</td>\n",
       "      <td>NaN</td>\n",
       "      <td>email print in every competition out there , t...</td>\n",
       "      <td>NaN</td>\n",
       "      <td>test</td>\n",
       "    </tr>\n",
       "    <tr>\n",
       "      <th>15981</th>\n",
       "      <td>protesters disturb ryan lochte s debut on danc...</td>\n",
       "      <td>Jonah Engel Bromwich</td>\n",
       "      <td>the olympic swimmer ryan lochte , making his d...</td>\n",
       "      <td>0</td>\n",
       "      <td>val</td>\n",
       "    </tr>\n",
       "    <tr>\n",
       "      <th>22925</th>\n",
       "      <td>michael hudson on meet the renegades</td>\n",
       "      <td>Yves Smith</td>\n",
       "      <td>lambert strether on pm water cooler i don t kn...</td>\n",
       "      <td>NaN</td>\n",
       "      <td>test</td>\n",
       "    </tr>\n",
       "    <tr>\n",
       "      <th>6633</th>\n",
       "      <td>i m so tired of all these psychotics babbling ...</td>\n",
       "      <td>Craazee8</td>\n",
       "      <td>i m so tired of all these psychotics babbling ...</td>\n",
       "      <td>1</td>\n",
       "      <td>train</td>\n",
       "    </tr>\n",
       "  </tbody>\n",
       "</table>\n",
       "</div>"
      ],
      "text/plain": [
       "                                                   title  \\\n",
       "20718  this is the best picture in human history dail...   \n",
       "3611   caroline kennedy dances in a christmas video ,...   \n",
       "12462  shock and gore mexican matador gets bull s hor...   \n",
       "1058   gatlinburg residents return home to wildfire d...   \n",
       "24696          the ancient gods releasing matrix control   \n",
       "23999  flynn is said to have talked to russians about...   \n",
       "23604  breaking obama now considering martial law bec...   \n",
       "15981  protesters disturb ryan lochte s debut on danc...   \n",
       "22925               michael hudson on meet the renegades   \n",
       "6633   i m so tired of all these psychotics babbling ...   \n",
       "\n",
       "                                  author  \\\n",
       "20718                                NaN   \n",
       "3611                           Mike Ives   \n",
       "12462                 Warner Todd Huston   \n",
       "1058                     Richard Fausset   \n",
       "24696                            Gillian   \n",
       "23999  Matthew Rosenberg and Matt Apuzzo   \n",
       "23604                                NaN   \n",
       "15981               Jonah Engel Bromwich   \n",
       "22925                         Yves Smith   \n",
       "6633                            Craazee8   \n",
       "\n",
       "                                                    text label  split  \n",
       "20718  this is the best picture in human history by n...     1  train  \n",
       "3611   hong kong the japanese public pays careful att...     0  train  \n",
       "12462  bull fighting fans in mexico were shocked this...     0    val  \n",
       "1058   gatlinburg , tenn . the annual fantasy of ligh...     0  train  \n",
       "24696  leave a reply david manning our evolution is s...   NaN   test  \n",
       "23999  washington weeks before president trump s inau...   NaN   test  \n",
       "23604  email print in every competition out there , t...   NaN   test  \n",
       "15981  the olympic swimmer ryan lochte , making his d...     0    val  \n",
       "22925  lambert strether on pm water cooler i don t kn...   NaN   test  \n",
       "6633   i m so tired of all these psychotics babbling ...     1  train  "
      ]
     },
     "execution_count": 11,
     "metadata": {},
     "output_type": "execute_result"
    }
   ],
   "source": [
    "news_final.sample(10)"
   ]
  },
  {
   "cell_type": "code",
   "execution_count": 12,
   "id": "ea267113",
   "metadata": {
    "ExecuteTime": {
     "end_time": "2022-11-23T13:14:40.413889Z",
     "start_time": "2022-11-23T13:14:37.427596Z"
    }
   },
   "outputs": [],
   "source": [
    "# train_news_final.to_csv(args.output_munged_csv, index=False)\n",
    "# test_news.to_csv(args.output_test_csv, index=False)\n",
    "news_final.to_csv(args.output_munged_csv)"
   ]
  },
  {
   "cell_type": "code",
   "execution_count": 13,
   "id": "3a1e09a1",
   "metadata": {
    "ExecuteTime": {
     "end_time": "2022-11-23T13:14:41.971584Z",
     "start_time": "2022-11-23T13:14:41.951588Z"
    }
   },
   "outputs": [
    {
     "data": {
      "text/plain": [
       "title     object\n",
       "author    object\n",
       "text      object\n",
       "label     object\n",
       "split     object\n",
       "dtype: object"
      ]
     },
     "execution_count": 13,
     "metadata": {},
     "output_type": "execute_result"
    }
   ],
   "source": [
    "news_final.dtypes"
   ]
  },
  {
   "cell_type": "code",
   "execution_count": null,
   "id": "98391aa7",
   "metadata": {},
   "outputs": [],
   "source": []
  }
 ],
 "metadata": {
  "kernelspec": {
   "display_name": "Python 3 (ipykernel)",
   "language": "python",
   "name": "python3"
  },
  "language_info": {
   "codemirror_mode": {
    "name": "ipython",
    "version": 3
   },
   "file_extension": ".py",
   "mimetype": "text/x-python",
   "name": "python",
   "nbconvert_exporter": "python",
   "pygments_lexer": "ipython3",
   "version": "3.8.13"
  },
  "toc": {
   "base_numbering": 1,
   "nav_menu": {},
   "number_sections": true,
   "sideBar": true,
   "skip_h1_title": false,
   "title_cell": "Table of Contents",
   "title_sidebar": "Contents",
   "toc_cell": false,
   "toc_position": {},
   "toc_section_display": true,
   "toc_window_display": false
  }
 },
 "nbformat": 4,
 "nbformat_minor": 5
}
