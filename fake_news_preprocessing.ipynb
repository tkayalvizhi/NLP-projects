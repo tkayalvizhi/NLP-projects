{
 "cells": [
  {
   "cell_type": "code",
   "execution_count": 1,
   "id": "1d9f651d",
   "metadata": {
    "ExecuteTime": {
     "end_time": "2022-09-27T09:17:57.529174Z",
     "start_time": "2022-09-27T09:17:57.039167Z"
    }
   },
   "outputs": [],
   "source": [
    "import collections\n",
    "import numpy as np\n",
    "import pandas as pd\n",
    "import re\n",
    "\n",
    "from argparse import Namespace"
   ]
  },
  {
   "cell_type": "code",
   "execution_count": 2,
   "id": "83be4f57",
   "metadata": {
    "ExecuteTime": {
     "end_time": "2022-09-27T09:17:58.207575Z",
     "start_time": "2022-09-27T09:17:58.193573Z"
    }
   },
   "outputs": [],
   "source": [
    "args = Namespace(\n",
    "    \n",
    "    raw_train_dataset_csv=\"data/fake_news/train.csv\",\n",
    "    raw_test_dataset_csv=\"data/fake_news/test.csv\",\n",
    "    proportion_subset_of_train=0.1,\n",
    "    proportion_subset_of_test=0.1,\n",
    "    train_proportion=0.8,\n",
    "    val_proportion=0.2,\n",
    "    output_train_val_csv=\"data/fake_news/train_val_preprocessed_LITE.csv\",\n",
    "    output_munged_csv=\"data/fake_news/preprocessed_LITE.csv\",\n",
    "    output_test_csv=\"data/fake_news/test_preprocessed.csv\",\n",
    "    seed=42\n",
    "    \n",
    ")"
   ]
  },
  {
   "cell_type": "code",
   "execution_count": 3,
   "id": "5e62ed3c",
   "metadata": {
    "ExecuteTime": {
     "end_time": "2022-09-27T09:18:01.352005Z",
     "start_time": "2022-09-27T09:17:58.989524Z"
    }
   },
   "outputs": [],
   "source": [
    "train_news = pd.read_csv(args.raw_train_dataset_csv, index_col='id')\n",
    "test_news = pd.read_csv(args.raw_test_dataset_csv, index_col='id')"
   ]
  },
  {
   "cell_type": "code",
   "execution_count": 4,
   "id": "3316c191",
   "metadata": {
    "ExecuteTime": {
     "end_time": "2022-09-27T09:18:04.520543Z",
     "start_time": "2022-09-27T09:18:04.496543Z"
    }
   },
   "outputs": [
    {
     "data": {
      "text/html": [
       "<div>\n",
       "<style scoped>\n",
       "    .dataframe tbody tr th:only-of-type {\n",
       "        vertical-align: middle;\n",
       "    }\n",
       "\n",
       "    .dataframe tbody tr th {\n",
       "        vertical-align: top;\n",
       "    }\n",
       "\n",
       "    .dataframe thead th {\n",
       "        text-align: right;\n",
       "    }\n",
       "</style>\n",
       "<table border=\"1\" class=\"dataframe\">\n",
       "  <thead>\n",
       "    <tr style=\"text-align: right;\">\n",
       "      <th></th>\n",
       "      <th>title</th>\n",
       "      <th>author</th>\n",
       "      <th>text</th>\n",
       "      <th>label</th>\n",
       "    </tr>\n",
       "    <tr>\n",
       "      <th>id</th>\n",
       "      <th></th>\n",
       "      <th></th>\n",
       "      <th></th>\n",
       "      <th></th>\n",
       "    </tr>\n",
       "  </thead>\n",
       "  <tbody>\n",
       "    <tr>\n",
       "      <th>0</th>\n",
       "      <td>House Dem Aide: We Didn’t Even See Comey’s Let...</td>\n",
       "      <td>Darrell Lucus</td>\n",
       "      <td>House Dem Aide: We Didn’t Even See Comey’s Let...</td>\n",
       "      <td>1</td>\n",
       "    </tr>\n",
       "    <tr>\n",
       "      <th>1</th>\n",
       "      <td>FLYNN: Hillary Clinton, Big Woman on Campus - ...</td>\n",
       "      <td>Daniel J. Flynn</td>\n",
       "      <td>Ever get the feeling your life circles the rou...</td>\n",
       "      <td>0</td>\n",
       "    </tr>\n",
       "    <tr>\n",
       "      <th>2</th>\n",
       "      <td>Why the Truth Might Get You Fired</td>\n",
       "      <td>Consortiumnews.com</td>\n",
       "      <td>Why the Truth Might Get You Fired October 29, ...</td>\n",
       "      <td>1</td>\n",
       "    </tr>\n",
       "    <tr>\n",
       "      <th>3</th>\n",
       "      <td>15 Civilians Killed In Single US Airstrike Hav...</td>\n",
       "      <td>Jessica Purkiss</td>\n",
       "      <td>Videos 15 Civilians Killed In Single US Airstr...</td>\n",
       "      <td>1</td>\n",
       "    </tr>\n",
       "    <tr>\n",
       "      <th>4</th>\n",
       "      <td>Iranian woman jailed for fictional unpublished...</td>\n",
       "      <td>Howard Portnoy</td>\n",
       "      <td>Print \\nAn Iranian woman has been sentenced to...</td>\n",
       "      <td>1</td>\n",
       "    </tr>\n",
       "  </tbody>\n",
       "</table>\n",
       "</div>"
      ],
      "text/plain": [
       "                                                title              author  \\\n",
       "id                                                                          \n",
       "0   House Dem Aide: We Didn’t Even See Comey’s Let...       Darrell Lucus   \n",
       "1   FLYNN: Hillary Clinton, Big Woman on Campus - ...     Daniel J. Flynn   \n",
       "2                   Why the Truth Might Get You Fired  Consortiumnews.com   \n",
       "3   15 Civilians Killed In Single US Airstrike Hav...     Jessica Purkiss   \n",
       "4   Iranian woman jailed for fictional unpublished...      Howard Portnoy   \n",
       "\n",
       "                                                 text  label  \n",
       "id                                                            \n",
       "0   House Dem Aide: We Didn’t Even See Comey’s Let...      1  \n",
       "1   Ever get the feeling your life circles the rou...      0  \n",
       "2   Why the Truth Might Get You Fired October 29, ...      1  \n",
       "3   Videos 15 Civilians Killed In Single US Airstr...      1  \n",
       "4   Print \\nAn Iranian woman has been sentenced to...      1  "
      ]
     },
     "execution_count": 4,
     "metadata": {},
     "output_type": "execute_result"
    }
   ],
   "source": [
    "train_news.head()"
   ]
  },
  {
   "cell_type": "markdown",
   "id": "59b178a4",
   "metadata": {},
   "source": [
    "## Train on a subset of the full train dataset"
   ]
  },
  {
   "cell_type": "code",
   "execution_count": 5,
   "id": "e493e4ab",
   "metadata": {
    "ExecuteTime": {
     "end_time": "2022-09-27T09:18:11.434496Z",
     "start_time": "2022-09-27T09:18:11.408495Z"
    }
   },
   "outputs": [
    {
     "name": "stdout",
     "output_type": "stream",
     "text": [
      "<class 'pandas.core.frame.DataFrame'>\n",
      "Int64Index: 2080 entries, 8008 to 15528\n",
      "Data columns (total 4 columns):\n",
      " #   Column  Non-Null Count  Dtype \n",
      "---  ------  --------------  ----- \n",
      " 0   title   2031 non-null   object\n",
      " 1   author  1885 non-null   object\n",
      " 2   text    2077 non-null   object\n",
      " 3   label   2080 non-null   object\n",
      "dtypes: object(4)\n",
      "memory usage: 81.2+ KB\n"
     ]
    }
   ],
   "source": [
    "# group by label \n",
    "by_label = train_news.groupby('label')\n",
    "\n",
    "# a dataframe to store the subset of the train dataset\n",
    "news_subset = pd.DataFrame(columns = train_news.columns)\n",
    "\n",
    "for name, group in by_label:\n",
    "    # sample a fraction of each group(by label) and append to news_subset\n",
    "    news_subset = pd.concat([news_subset, group.sample(frac=args.proportion_subset_of_train)])\n",
    "\n",
    "news_subset.info()"
   ]
  },
  {
   "cell_type": "markdown",
   "id": "b5021474",
   "metadata": {},
   "source": [
    "## Train dataset and Validation dataset split"
   ]
  },
  {
   "cell_type": "code",
   "execution_count": 6,
   "id": "7fcacc45",
   "metadata": {
    "ExecuteTime": {
     "end_time": "2022-09-27T09:18:13.672356Z",
     "start_time": "2022-09-27T09:18:13.640354Z"
    }
   },
   "outputs": [
    {
     "name": "stdout",
     "output_type": "stream",
     "text": [
      "<class 'pandas.core.frame.DataFrame'>\n",
      "Int64Index: 2080 entries, 7247 to 10907\n",
      "Data columns (total 5 columns):\n",
      " #   Column  Non-Null Count  Dtype \n",
      "---  ------  --------------  ----- \n",
      " 0   title   2031 non-null   object\n",
      " 1   author  1885 non-null   object\n",
      " 2   text    2077 non-null   object\n",
      " 3   label   2080 non-null   object\n",
      " 4   split   2080 non-null   object\n",
      "dtypes: object(5)\n",
      "memory usage: 97.5+ KB\n"
     ]
    }
   ],
   "source": [
    "# group by label \n",
    "by_label = news_subset.groupby('label')\n",
    "\n",
    "np.random.seed(args.seed)\n",
    "\n",
    "columns = list(news_subset.columns)\n",
    "train_news_final = pd.DataFrame(columns = columns.append('split'))\n",
    "\n",
    "for name, group in by_label:\n",
    "    n_total = group.shape[0]\n",
    "    n_train = int(args.train_proportion * n_total)\n",
    "    \n",
    "    # shuffle rows \n",
    "    group = group.sample(frac=1)\n",
    "    \n",
    "    # split \n",
    "    train, val = np.split(group, [n_train])\n",
    "    train['split'] = 'train'\n",
    "    val['split'] = 'val'\n",
    "    \n",
    "    train_news_final = pd.concat([train_news_final, train, val])\n",
    "    \n",
    "\n",
    "train_news_final.info()"
   ]
  },
  {
   "cell_type": "markdown",
   "id": "0df99016",
   "metadata": {},
   "source": [
    "## Preprocessing "
   ]
  },
  {
   "cell_type": "code",
   "execution_count": 7,
   "id": "1d5e2877",
   "metadata": {
    "ExecuteTime": {
     "end_time": "2022-09-27T09:18:17.647091Z",
     "start_time": "2022-09-27T09:18:16.806084Z"
    }
   },
   "outputs": [],
   "source": [
    "# Preprocess\n",
    "def preprocess_text(text):\n",
    "    text = str(text).lower()\n",
    "    \n",
    "    # match a single character present in the group and add space before and after the character\n",
    "    # (\\1 - refers to the matched character)\n",
    "    text = re.sub(r\"([.,!?])\", r\" \\1 \", text)\n",
    "    \n",
    "    # match a single character not present in the group and replace it with space\n",
    "    text = re.sub(r\"[^a-zA-Z.,!?]+\", r\" \", text)\n",
    "    return text\n",
    "    \n",
    "train_news_final.text = train_news_final.text.apply(preprocess_text)\n",
    "train_news_final.title = train_news_final.title.apply(preprocess_text)"
   ]
  },
  {
   "cell_type": "code",
   "execution_count": 8,
   "id": "9f821189",
   "metadata": {
    "ExecuteTime": {
     "end_time": "2022-09-27T09:18:23.257480Z",
     "start_time": "2022-09-27T09:18:21.129476Z"
    }
   },
   "outputs": [],
   "source": [
    "test_news.text = test_news.text.apply(preprocess_text)\n",
    "test_news.title = test_news.title.apply(preprocess_text)\n",
    "test_news['split'] = 'test'\n",
    "\n",
    "test_news_final = test_news.sample(frac=args.proportion_subset_of_test)\n",
    "\n",
    "news_final = pd.concat([train_news_final, test_news_final])"
   ]
  },
  {
   "cell_type": "code",
   "execution_count": 9,
   "id": "10240fb8",
   "metadata": {
    "ExecuteTime": {
     "end_time": "2022-09-27T09:18:30.104467Z",
     "start_time": "2022-09-27T09:18:30.087464Z"
    }
   },
   "outputs": [
    {
     "data": {
      "text/html": [
       "<div>\n",
       "<style scoped>\n",
       "    .dataframe tbody tr th:only-of-type {\n",
       "        vertical-align: middle;\n",
       "    }\n",
       "\n",
       "    .dataframe tbody tr th {\n",
       "        vertical-align: top;\n",
       "    }\n",
       "\n",
       "    .dataframe thead th {\n",
       "        text-align: right;\n",
       "    }\n",
       "</style>\n",
       "<table border=\"1\" class=\"dataframe\">\n",
       "  <thead>\n",
       "    <tr style=\"text-align: right;\">\n",
       "      <th></th>\n",
       "      <th>title</th>\n",
       "      <th>author</th>\n",
       "      <th>text</th>\n",
       "      <th>label</th>\n",
       "    </tr>\n",
       "    <tr>\n",
       "      <th>split</th>\n",
       "      <th></th>\n",
       "      <th></th>\n",
       "      <th></th>\n",
       "      <th></th>\n",
       "    </tr>\n",
       "  </thead>\n",
       "  <tbody>\n",
       "    <tr>\n",
       "      <th>test</th>\n",
       "      <td>520</td>\n",
       "      <td>459</td>\n",
       "      <td>520</td>\n",
       "      <td>0</td>\n",
       "    </tr>\n",
       "    <tr>\n",
       "      <th>train</th>\n",
       "      <td>1663</td>\n",
       "      <td>1510</td>\n",
       "      <td>1663</td>\n",
       "      <td>1663</td>\n",
       "    </tr>\n",
       "    <tr>\n",
       "      <th>val</th>\n",
       "      <td>417</td>\n",
       "      <td>375</td>\n",
       "      <td>417</td>\n",
       "      <td>417</td>\n",
       "    </tr>\n",
       "  </tbody>\n",
       "</table>\n",
       "</div>"
      ],
      "text/plain": [
       "       title  author  text  label\n",
       "split                            \n",
       "test     520     459   520      0\n",
       "train   1663    1510  1663   1663\n",
       "val      417     375   417    417"
      ]
     },
     "execution_count": 9,
     "metadata": {},
     "output_type": "execute_result"
    }
   ],
   "source": [
    "news_final.groupby('split').count()"
   ]
  },
  {
   "cell_type": "code",
   "execution_count": 12,
   "id": "8ebff37b",
   "metadata": {
    "ExecuteTime": {
     "end_time": "2022-09-27T09:19:03.767806Z",
     "start_time": "2022-09-27T09:19:03.747806Z"
    }
   },
   "outputs": [
    {
     "data": {
      "text/html": [
       "<div>\n",
       "<style scoped>\n",
       "    .dataframe tbody tr th:only-of-type {\n",
       "        vertical-align: middle;\n",
       "    }\n",
       "\n",
       "    .dataframe tbody tr th {\n",
       "        vertical-align: top;\n",
       "    }\n",
       "\n",
       "    .dataframe thead th {\n",
       "        text-align: right;\n",
       "    }\n",
       "</style>\n",
       "<table border=\"1\" class=\"dataframe\">\n",
       "  <thead>\n",
       "    <tr style=\"text-align: right;\">\n",
       "      <th></th>\n",
       "      <th>title</th>\n",
       "      <th>author</th>\n",
       "      <th>text</th>\n",
       "      <th>label</th>\n",
       "      <th>split</th>\n",
       "    </tr>\n",
       "  </thead>\n",
       "  <tbody>\n",
       "    <tr>\n",
       "      <th>529</th>\n",
       "      <td>comment on gold medalist wrestler gets violent...</td>\n",
       "      <td>Buck Rogers</td>\n",
       "      <td>usa created isis , all european know about tha...</td>\n",
       "      <td>1</td>\n",
       "      <td>val</td>\n",
       "    </tr>\n",
       "    <tr>\n",
       "      <th>15879</th>\n",
       "      <td>, pounds of would be pennies coat highway aft...</td>\n",
       "      <td>Jonah Engel Bromwich</td>\n",
       "      <td>it looked like free money all over the highway...</td>\n",
       "      <td>0</td>\n",
       "      <td>val</td>\n",
       "    </tr>\n",
       "    <tr>\n",
       "      <th>20788</th>\n",
       "      <td>maine s gov . lepage threatens to investigate ...</td>\n",
       "      <td>Joe Clark</td>\n",
       "      <td>google pinterest digg linkedin reddit stumbleu...</td>\n",
       "      <td>1</td>\n",
       "      <td>val</td>\n",
       "    </tr>\n",
       "    <tr>\n",
       "      <th>21208</th>\n",
       "      <td>j . geils , whose band s catchy pop hits color...</td>\n",
       "      <td>Niraj Chokshi</td>\n",
       "      <td>j . geils , the guitarist who lent his name to...</td>\n",
       "      <td>NaN</td>\n",
       "      <td>test</td>\n",
       "    </tr>\n",
       "    <tr>\n",
       "      <th>350</th>\n",
       "      <td>trump adviser says israeli settlements not ill...</td>\n",
       "      <td>Middle East Eye</td>\n",
       "      <td>trump adviser says israeli settlements not ill...</td>\n",
       "      <td>1</td>\n",
       "      <td>train</td>\n",
       "    </tr>\n",
       "    <tr>\n",
       "      <th>8669</th>\n",
       "      <td>quiz which matters most to mental health ? rai...</td>\n",
       "      <td>Heather Callaghan</td>\n",
       "      <td>by heather callaghan , editor there s no denyi...</td>\n",
       "      <td>1</td>\n",
       "      <td>train</td>\n",
       "    </tr>\n",
       "    <tr>\n",
       "      <th>23825</th>\n",
       "      <td>new tests put perspective to x reporting limit...</td>\n",
       "      <td>Heather Callaghan</td>\n",
       "      <td>by cassius kamarampi era of wisdom new rain te...</td>\n",
       "      <td>NaN</td>\n",
       "      <td>test</td>\n",
       "    </tr>\n",
       "    <tr>\n",
       "      <th>16025</th>\n",
       "      <td>alleged mexican cartel operatives charged in ...</td>\n",
       "      <td>Ryan Saavedra</td>\n",
       "      <td>a federal grand jury returned an indictment ch...</td>\n",
       "      <td>0</td>\n",
       "      <td>val</td>\n",
       "    </tr>\n",
       "    <tr>\n",
       "      <th>18996</th>\n",
       "      <td>trump warns of world war iii if clinton is ele...</td>\n",
       "      <td>NaN</td>\n",
       "      <td>email donald trump warned in an interview tues...</td>\n",
       "      <td>1</td>\n",
       "      <td>train</td>\n",
       "    </tr>\n",
       "    <tr>\n",
       "      <th>24445</th>\n",
       "      <td>now pak pm nawaz sharif announces demonetizati...</td>\n",
       "      <td>UnReal Mama</td>\n",
       "      <td>now pak pm nawaz sharif announces demonetizati...</td>\n",
       "      <td>NaN</td>\n",
       "      <td>test</td>\n",
       "    </tr>\n",
       "  </tbody>\n",
       "</table>\n",
       "</div>"
      ],
      "text/plain": [
       "                                                   title  \\\n",
       "529    comment on gold medalist wrestler gets violent...   \n",
       "15879   , pounds of would be pennies coat highway aft...   \n",
       "20788  maine s gov . lepage threatens to investigate ...   \n",
       "21208  j . geils , whose band s catchy pop hits color...   \n",
       "350    trump adviser says israeli settlements not ill...   \n",
       "8669   quiz which matters most to mental health ? rai...   \n",
       "23825  new tests put perspective to x reporting limit...   \n",
       "16025   alleged mexican cartel operatives charged in ...   \n",
       "18996  trump warns of world war iii if clinton is ele...   \n",
       "24445  now pak pm nawaz sharif announces demonetizati...   \n",
       "\n",
       "                     author  \\\n",
       "529             Buck Rogers   \n",
       "15879  Jonah Engel Bromwich   \n",
       "20788             Joe Clark   \n",
       "21208         Niraj Chokshi   \n",
       "350         Middle East Eye   \n",
       "8669      Heather Callaghan   \n",
       "23825     Heather Callaghan   \n",
       "16025         Ryan Saavedra   \n",
       "18996                   NaN   \n",
       "24445           UnReal Mama   \n",
       "\n",
       "                                                    text label  split  \n",
       "529    usa created isis , all european know about tha...     1    val  \n",
       "15879  it looked like free money all over the highway...     0    val  \n",
       "20788  google pinterest digg linkedin reddit stumbleu...     1    val  \n",
       "21208  j . geils , the guitarist who lent his name to...   NaN   test  \n",
       "350    trump adviser says israeli settlements not ill...     1  train  \n",
       "8669   by heather callaghan , editor there s no denyi...     1  train  \n",
       "23825  by cassius kamarampi era of wisdom new rain te...   NaN   test  \n",
       "16025  a federal grand jury returned an indictment ch...     0    val  \n",
       "18996  email donald trump warned in an interview tues...     1  train  \n",
       "24445  now pak pm nawaz sharif announces demonetizati...   NaN   test  "
      ]
     },
     "execution_count": 12,
     "metadata": {},
     "output_type": "execute_result"
    }
   ],
   "source": [
    "news_final.sample(10)"
   ]
  },
  {
   "cell_type": "code",
   "execution_count": 13,
   "id": "ea267113",
   "metadata": {
    "ExecuteTime": {
     "end_time": "2022-09-27T09:19:52.070099Z",
     "start_time": "2022-09-27T09:19:51.478680Z"
    }
   },
   "outputs": [],
   "source": [
    "# train_news_final.to_csv(args.output_munged_csv, index=False)\n",
    "# test_news.to_csv(args.output_test_csv, index=False)\n",
    "news_final.to_csv(args.output_munged_csv)"
   ]
  },
  {
   "cell_type": "code",
   "execution_count": 14,
   "id": "3a1e09a1",
   "metadata": {
    "ExecuteTime": {
     "end_time": "2022-09-27T09:25:51.535785Z",
     "start_time": "2022-09-27T09:25:51.518778Z"
    }
   },
   "outputs": [
    {
     "data": {
      "text/plain": [
       "title     object\n",
       "author    object\n",
       "text      object\n",
       "label     object\n",
       "split     object\n",
       "dtype: object"
      ]
     },
     "execution_count": 14,
     "metadata": {},
     "output_type": "execute_result"
    }
   ],
   "source": [
    "news_final.dtypes"
   ]
  }
 ],
 "metadata": {
  "kernelspec": {
   "display_name": "Python 3 (ipykernel)",
   "language": "python",
   "name": "python3"
  },
  "language_info": {
   "codemirror_mode": {
    "name": "ipython",
    "version": 3
   },
   "file_extension": ".py",
   "mimetype": "text/x-python",
   "name": "python",
   "nbconvert_exporter": "python",
   "pygments_lexer": "ipython3",
   "version": "3.10.4"
  },
  "toc": {
   "base_numbering": 1,
   "nav_menu": {},
   "number_sections": true,
   "sideBar": true,
   "skip_h1_title": false,
   "title_cell": "Table of Contents",
   "title_sidebar": "Contents",
   "toc_cell": false,
   "toc_position": {},
   "toc_section_display": true,
   "toc_window_display": false
  }
 },
 "nbformat": 4,
 "nbformat_minor": 5
}
